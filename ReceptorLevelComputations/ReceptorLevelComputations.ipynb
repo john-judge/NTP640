{
 "cells": [
  {
   "cell_type": "markdown",
   "metadata": {},
   "source": [
    "## Receptor-Level Computations\n",
    "NTP 640 - Computational Neuroscience\n",
    "Interactively simulate neurotransmitter receptor function and computations.\n",
    "\n",
    "Matt Jones, 2024 (Matlab live editor version)\n",
    "\n",
    "Converted to Python John Judge, 2024"
   ]
  },
  {
   "cell_type": "markdown",
   "metadata": {},
   "source": [
    "\n",
    "## Table of Contents\n",
    "\n",
    "1. [Introduction](#Introduction)\n",
    "    - [A Simple Kinetic Model of a Neurotransmitter Receptor](#A-Simple-Kinetic-Model-of-a-Neurotransmitter-Receptor)\n",
    "        - [Discrete States and Transition Rate Constants](#Discrete-States-and-Transition-Rate-Constants)\n",
    "        - [Differential Equations](#Differential-Equations)\n",
    "        - [Finite Difference Equations](#Finite-Difference-Equations)\n",
    "        - [The Importance of ∆t](#The-Importance-of-∆t)\n",
    "2. [Modeling the System](#Modeling-the-System)\n",
    "    - [How To Use This Software](#How-To-Use-This-Software)\n",
    "    - [Initial Conditions and Rate Constants](#Initial-Conditions-and-Rate-Constants)\n",
    "    - [Agonist Concentration and Timecourse](#Agonist-Concentration-and-Timecourse)\n",
    "3. [Solve The Finite Difference Equations](#Solve-The-Finite-Difference-Equations)\n",
    "4. [What Computations Can Neurotransmitter Receptors Perform?](#What-Computations-Can-Neurotransmitter-Receptors-Perform?)\n",
    "    - [Impulse Response, Filtering, Convolution](#Impulse-Response,-Filtering,-Convolution)\n",
    "    - [Arithmetic](#Arithmetic)\n",
    "5. [Homework Exercises](#Homework-Exercises)\n",
    "    - [Exercise #1 - The \"Impulse Response\" of a Neurotransmitter Receptor](#Exercise-#1---The-\"Impulse-Response\"-of-a-Neurotransmitter-Receptor)\n",
    "    - [Exercise #2 - The Response to More Complex Inputs](#Exercise-#2---The-Response-to-More-Complex-Inputs)\n",
    "    - [Exercise #3 - The Effect of Microscopic Receptor Affinity](#Exercise-#3---The-Effect-of-Microscopic-Receptor-Affinity)\n",
    "    - [Exercise #4 - The Dose-Response Curve](#Exercise-#4---The-Dose-Response-Curve)\n"
   ]
  },
  {
   "cell_type": "markdown",
   "metadata": {},
   "source": [
    "# Introduction\n",
    " Communication between neurons is probably a fundamental process that underlies how the brain computes things. Most of this communication is electrochemical: A chemical messenger molecule (e.g., a neurotransmitter) is released from one neuron and interacts with receptor proteins on target neurons. The end result on the target neuron depends on many things. But a logical starting point is to consider the receptor itself. What sorts of computations might be performed at the level of individual neurotransmitter receptors?\n",
    " \n",
    "Here, we'll explore this question in the context of the standard \"workhorse\" neurotransmitter receptors (i.e., ionotropic glutamate and GABA receptors) that account for ~90% of all synaptic transmission in the central nervous system (CNS). But our purpose here is not to discuss any specific neurotransmitter/receptor system. Rather, let's discuss the common principles shared by most of them. Let's try to understand what sorts of computations any generic receptor might be able to do.\n",
    "    "
   ]
  },
  {
   "cell_type": "markdown",
   "metadata": {},
   "source": [
    "\n",
    "## A Simple Kinetic Model of a Neurotransmitter Receptor\n",
    "\n",
    "### Discrete States and Transition Rate Constants\n",
    "Most synapses (~90%) in the CNS release the neurotransmitters glutamate or GABA. The receptors for these two transmitters do opposite things. Glutamate is typically \"excitatory\" whereas GABA is typically \"inhibitory\". The receptors are not closely related, genetically, but they are very similar in the principles of how they function. They are both transmembrane protein complexes that comprise an ion channel (i.e., they are \"ionotropic\"). They both have binding sites for a neurotransmitter. When it binds, they both can either open (conduct ions) or desensitize (stay closed for a long time - similar to 'inactivation' in voltage-gated ion channels). \n",
    "\n",
    "Although there are many different kinds of receptors, with different properties, we can summarize a lot of how a \"generic\" ionotropic receptor works with this diagram below (i.e., a chemical kinetic scheme):   \n",
    "\n",
    "![Activation Kinetics](images/activation_kinetics.png)\n",
    "\n",
    "This particular hypothetical receptor has four **discrete states**, corresponding to four conformational states of the protein: Unbound (U), Bound (B), Open (O - ion conducting) and Desensitized (D - bound, closed and long-lasting). The arrows show the allowed transitions between conformations, and the text next to the arrows show the **rate constants** for making a transition. The concentration of neurotrasmitter (or agonist, [A]) increases the rate of going from U to B. This model is a reasonable first-pass description of most ionotropic neurotransmitter receptors that we know about, such as glutamate, GABA-A and nACh receptors. \n",
    "\n",
    "The chemical kinetic scheme diagram above is a nice graphical way of thinking about how a receptor might move between states. But it's more than that. A system composed of discrete states that can transition back and forth according to certain rate constants is an example of a Markov process. There's a large body of math dealing with Markov processes. More immediately, using the Law of Mass Action, we can convert that diagram directly into equations. Please see other sources for further details (e.g., my Neuro610 Lecture Notes). Briefly, for any state, S, the Law of Mass Action can be summarized by a differential equation:\n",
    "\n",
    "$\\frac{dS}{dt}=\\sum{\\text{Rates into S}} - \\sum{\\text{Rates out of S}}$\n",
    "\n",
    "The rate of change of the probability of being in state S (dS/dt) is equal to the sum of all the rates leading into S minus the sum of all the rates leading out of S. Applying this reasoning to the diagram above yields a system of **coupled** differential equations:\n",
    "\n",
    "### Differential Equations\n",
    "![Differential Equations](images/diff_eq_2.png)\n",
    "\n",
    "These equations describe the evolution of the system with time. There is one equation for each state (U, B, O, D). But they are coupled because they share terms. They all have to be solved together, as a system.\n",
    "\n",
    "Here, rather than solving differential equations using calculus, let's convert them to a form that only requires simple algebra, and can be solved easily with basic Matlab code. For any state, S:\n",
    "\n",
    "1) Approximate the differential dS with the **finite difference** S(t+1)-S(t). \n",
    "\n",
    "2) Approximate the differential dt with the **finite difference** ∆t = (t+1)-t.\n",
    "\n",
    "3) Substitute and rearrange to yield the system of **coupled finite difference equations**:\n",
    "### Finite Difference Equations\n",
    "![Finite Differential Equations](images/finite_diff_eq.png)\n",
    "\n",
    "These equations tell us that if we know the conditions at any instant in time (t), then we can compute the state probabilities at the next instant in time (t+1). In other words, we can simulate the behavior of the system.\n",
    "\n",
    "### The Importance of ∆t\n",
    "\n",
    " The choice of ∆t is up to us, but is important. We want it to be *small* relative to how fast the system is changing with time. The smaller ∆t is, the closer the finite differences will be to the ininitesimal difference dt  and therefore the more *accurate* our numerical approximation will be. However, it will also require more time steps to span the same simulation time and therefore the more *costly* it will be. Choosing ∆t too small is a waste of computing resources and can even cause software crashes. On the other hand, choosing ∆t too large will yield a poor approximation and either *inaccurate* or downright preposterous results. \n",
    "\n",
    "Therefore, appropriate choice of ∆t will depend on the specific system being simulated and its rate constants. There is no one-size-fits-all value of ∆t. A good rule of thumb is to start with ∆t being ~10 times shorter than the fastest thing that is likely to happen in the system. For example, in the system above, suppose that the agonist can reach a concentration of [A] = 10^-3 M (Molar) and the agonist binding rate is k_on = 10^6 /M/s. Then the rate of going from U to B would be [A]k_on = 10^-3  M * 10^6 /M/s = 10^3 /s = 1000 /s. The average time spent in U before going to B would be 1/1000 /s = 1 ms. So it would be a good idea to start by choosing ∆t to be about 10 times shorter than that, or 100 µs.  \n",
    "\n",
    "In the end, some experimentation is necessary. How do we know if we've chosen a sufficiently small ∆t? The easiest way is probably to try a smaller ∆t (e.g., ~5 times smaller than your original guess). If the simulation changes in a noticeable way, it probably means that the simulation is becoming more accurate and that your original guess was not sufficiently small. Repeat until making ∆t smaller no longer causes any noticeable difference. And then stop making ∆t smaller, to avoid wasting computational resources. Of course, what \"noticeable difference\" means is also up to you. "
   ]
  },
  {
   "cell_type": "markdown",
   "metadata": {},
   "source": [
    "# Modeling the System\n",
    "\n",
    "## How To Use This Software\n",
    "\n",
    "The code sections below illustrate how to set up a simulation of the receptor model above in Python, using the Forward Euler Method to iteratively solve the finite difference equations. Interactively change conditions (e.g., simulation length, time step size, agonist concentrations, etc) and parameters (e.g., rate constants).\n",
    "\n",
    "The first two sections guide you to choose appropriate initial values of parameters that are available to manipulate. Some parameters may be interactively updated after the plots are made; parameter updates on sliders associated with plots are automatically shown in the matplotlib plot in real time. This helps you sweep through the parameter space without having to re-run the code."
   ]
  },
  {
   "cell_type": "markdown",
   "metadata": {},
   "source": [
    "## Initial Conditions and Rate Constants"
   ]
  },
  {
   "cell_type": "code",
   "execution_count": 86,
   "metadata": {},
   "outputs": [],
   "source": [
    "# Import packages\n",
    "import numpy as np\n",
    "from ipywidgets import interact\n",
    "import matplotlib.pyplot as plt\n",
    "from mpl_interactions import ipyplot as iplt\n",
    "\n",
    "from ReceptorLevelComputations import ReceptorLevelComputations, widgets\n",
    "rlc = ReceptorLevelComputations()\n",
    "%matplotlib widget\n",
    "SimNum = 0  # Keep track of the simulation results"
   ]
  },
  {
   "cell_type": "code",
   "execution_count": 87,
   "metadata": {},
   "outputs": [
    {
     "data": {
      "application/vnd.jupyter.widget-view+json": {
       "model_id": "24fd712ae4794df7b1c1e282040817fb",
       "version_major": 2,
       "version_minor": 0
      },
      "text/plain": [
       "VBox(children=(IntSlider(value=0, description='k_on = 10^', max=7), IntSlider(value=2, description='k_off = 10…"
      ]
     },
     "execution_count": 87,
     "metadata": {},
     "output_type": "execute_result"
    }
   ],
   "source": [
    "\n",
    "# Set up the receptor states and parameters\n",
    "\n",
    "# Define the starting probabilities of the system's states (Must sum to 1)\n",
    "U_0 = 1  # Start with all receptors in Unbound \n",
    "B_0 = 0  # Bound\n",
    "O_0 = 0  # Open\n",
    "D_0 = 0  # Desensitized\n",
    "\n",
    "# Manually set the rate constants if preferred (if invalid, defaults will be used)\n",
    "k_on = 10**0  # Units: M^-1 s^-1 [10^6]\n",
    "k_off = 10**2  # Units: s^-1 [10^2]\n",
    "beta = 10**3  # Units: s^-1 [10^3]\n",
    "alpha = 10**3  # Units: s^-1 [10^3]\n",
    "d = 10**2  # Units: s^-1 [10^2]\n",
    "r = 10**0  # Units: s^-1 [10^0]\n",
    "\n",
    "# Interactively Define Rate Constants (defaults shown in [])\n",
    "sliders = rlc.create_rc_sliders(k_on, k_off, beta, alpha, d, r)\n",
    "widgets.VBox(sliders)"
   ]
  },
  {
   "cell_type": "markdown",
   "metadata": {},
   "source": [
    "## Agonist Concentration and Timecourse\n",
    "Run this block of code to set up the simulation conditions. You will have the option to play with these parameters later, but this blocks helps you choose a sensible starting point."
   ]
  },
  {
   "cell_type": "code",
   "execution_count": 88,
   "metadata": {},
   "outputs": [
    {
     "data": {
      "application/vnd.jupyter.widget-view+json": {
       "model_id": "5e961f3ac3794bd082bbaf46fa6ff6e6",
       "version_major": 2,
       "version_minor": 0
      },
      "text/plain": [
       "VBox(children=(IntSlider(value=0, description='dt = 10^', layout=Layout(width='50%'), max=0, min=-4, style=Sli…"
      ]
     },
     "execution_count": 88,
     "metadata": {},
     "output_type": "execute_result"
    }
   ],
   "source": [
    "# Set some default parameters\n",
    "StimStartFrac = 0.1  # Start the stimulus at 10% of the total simulation duration\n",
    "StimEndFrac = 0.8  # End the stimulus at 80% of the total simulation duration\n",
    "\n",
    "# Set default values manually if preferred\n",
    "default_dt = -4   # timestep (dt)                            Units: s\n",
    "default_tMax = -1 # duration of the simulation               Units: s\n",
    "default_AgConcMax = -7 # Agonist Concentration Maximum       Units: M\n",
    "default_StimType = 'PulseTrain' # Stimulus Type              Pulse Train or Noise\n",
    "default_PulseDur = 1e-3\n",
    "default_PulseFreq = 10\n",
    "default_TrainDur = 0.04\n",
    "\n",
    "# Or, interactively set the simulation parameters\n",
    "sliders = rlc.create_simulation_sliders(default_dt, default_tMax, default_AgConcMax, default_StimType, default_PulseDur, default_PulseFreq, default_TrainDur)\n",
    "widgets.VBox(sliders)"
   ]
  },
  {
   "cell_type": "code",
   "execution_count": 89,
   "metadata": {},
   "outputs": [
    {
     "data": {
      "application/vnd.jupyter.widget-view+json": {
       "model_id": "16275e26cb6749c882e8a0326e5711cb",
       "version_major": 2,
       "version_minor": 0
      },
      "text/plain": [
       "VBox(children=(HBox(children=(IntSlider(value=0, description='StimStartFrac', max=49, readout=False), Label(va…"
      ]
     },
     "metadata": {},
     "output_type": "display_data"
    },
    {
     "name": "stdout",
     "output_type": "stream",
     "text": [
      "{'StimStartFrac': HBox(children=(IntSlider(value=0, description='StimStartFrac', max=49, readout=False), Label(value='0.00'))), 'StimEndFrac': HBox(children=(IntSlider(value=0, description='StimEndFrac', max=49, readout=False), Label(value='0.00'))), 'log_PulseFreq': HBox(children=(IntSlider(value=0, description='log_PulseFreq', max=49, readout=False), Label(value='-3.00'))), 'log_TrainDur': HBox(children=(IntSlider(value=0, description='log_TrainDur', max=49, readout=False), Label(value='-3.00'))), 'log_PulseDur': HBox(children=(IntSlider(value=0, description='log_PulseDur', max=49, readout=False), Label(value='-3.00'))), 'log_AgConcMax': HBox(children=(IntSlider(value=0, description='log_AgConcMax', max=49, readout=False), Label(value='-7.00')))}\n"
     ]
    },
    {
     "data": {
      "application/vnd.jupyter.widget-view+json": {
       "model_id": "cc687a15640e418d96cc687f3d2fd7ae",
       "version_major": 2,
       "version_minor": 0
      },
      "image/png": "[encoded data removed]",
      "text/html": [
       "\n",
       "            <div style=\"display: inline-block;\">\n",
       "                <div class=\"jupyter-widgets widget-label\" style=\"text-align: center;\">\n",
       "                    Figure\n",
       "                </div>\n",
       "                <img src='data:image/png;base64,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' width=600.0/>\n",
       "            </div>\n",
       "        "
      ],
      "text/plain": [
       "Canvas(toolbar=Toolbar(toolitems=[('Home', 'Reset original view', 'home', 'home'), ('Back', 'Back to previous …"
      ]
     },
     "metadata": {},
     "output_type": "display_data"
    }
   ],
   "source": [
    "# pulls the rate constants and simulation parameters from the sliders\n",
    "k_on, k_off, beta, alpha, d, r = rlc.get_rate_constants()\n",
    "dt, tMax, AgConcMax, StimType, PulseDur, PulseFreq, TrainDur = rlc.get_simulation_params()\n",
    "\n",
    "# Create the Time axis\n",
    "time = np.arange(0, tMax, dt)  # Units: s\n",
    "\n",
    "# Choose Stimulus Parameters, Depending on StimType\n",
    "if StimType == \"PulseTrain\": \n",
    "\n",
    "    # Create the Agonist Waveform. This function is called every time the sliders are changed.\n",
    "    def Ag(time, StimEndFrac, StimStartFrac, log_PulseFreq, log_TrainDur, log_PulseDur, log_AgConcMax):\n",
    "\n",
    "        # Convert log values to linear\n",
    "        PulseDur = 10**log_PulseDur\n",
    "        AgConcMax = 10**log_AgConcMax\n",
    "        PulseFreq = 10**log_PulseFreq\n",
    "        TrainDur = 10**log_TrainDur\n",
    "\n",
    "        # Find the indices of stimulus start and end\n",
    "        StimStartIndx = int(np.ceil(StimStartFrac * len(time)))\n",
    "        StimEndIndx = int(np.ceil(StimEndFrac * len(time)))\n",
    "\n",
    "        MinPulseDur = 2 * dt\n",
    "        MaxPulseDur = (StimEndFrac - StimStartFrac) * tMax\n",
    "        MinPulseFreq = 1 / tMax\n",
    "        MaxPulseFreq = 1 / MinPulseDur\n",
    "        PulseIntervalSec = 1 / PulseFreq\n",
    "        PulseIntervalPts = int(np.ceil(PulseIntervalSec / dt))\n",
    "\n",
    "        # Create a mask to start and end stimulus as specified\n",
    "        Mask = np.zeros_like(time)\n",
    "        Mask[StimStartIndx:StimStartIndx + int(np.ceil(TrainDur / dt))] = 1\n",
    "\n",
    "        # Create an Agonist Impulse Train\n",
    "        ImpulseTrain = np.zeros_like(time)\n",
    "        ImpulseTrain[StimStartIndx:StimEndIndx:PulseIntervalPts] = 1\n",
    "\n",
    "        # Convolve with a square wave of PulseDur to create the final pulse profile\n",
    "        PulseKernel = np.ones(int(np.ceil(PulseDur / dt)))\n",
    "        StimShape = np.convolve(ImpulseTrain, PulseKernel, mode='same')\n",
    "\n",
    "        # Create the Agonist concentration waveform. Apply the mask to start and end stimulus as specified\n",
    "        Ag = StimShape * AgConcMax * Mask\n",
    "\n",
    "        # Clip the waveform to stay within specified limits\n",
    "        Ag[Ag > AgConcMax] = AgConcMax\n",
    "\n",
    "        return Ag\n",
    "\n",
    "\n",
    "    # Display the Agonist Waveform\n",
    "    fig, ax = plt.subplots(figsize=(6, 4))\n",
    "\n",
    "    # interactive plot automatically updates when sliders are changed\n",
    "    ctrls = iplt.plot(time, Ag, 'k.-', \n",
    "                      StimStartFrac=(0, 0.9),\n",
    "                      StimEndFrac=(0, 0.9),\n",
    "                      log_PulseFreq=(-3, 3),\n",
    "                      log_TrainDur=(-3, 2),\n",
    "                      log_PulseDur=(-3, 2),\n",
    "                      log_AgConcMax=(-7, -1))\n",
    "    \n",
    "    rlc.set_default_position(ctrls, \n",
    "                             StimStartFrac=(0, 0.9, 0.1), \n",
    "                             StimEndFrac=(0, 0.9, 0.8),\n",
    "                             log_PulseFreq=(-3, 3, 1),\n",
    "                             log_TrainDur=(-3, 2, -2),\n",
    "                             log_PulseDur=(-3, 2, -3),\n",
    "                             log_AgConcMax=(-7, -1, -7))\n",
    "\n",
    "    ax.set_xlabel('Time (s)')\n",
    "    ax.set_ylabel('[A] (M)')\n",
    "    ax.set_title('Agonist Concentration')\n",
    "    ax.set_ylim([0, 10**(-7)])\n",
    "    plt.show()\n",
    "\n",
    "elif StimType == \"Noise\":  \n",
    "    raise NotImplementedError('Noise is not currently working...')\n",
    "\n"
   ]
  },
  {
   "cell_type": "markdown",
   "metadata": {},
   "source": [
    "# Solve The Finite Difference Equations\n",
    "\n",
    "![Differential Equations](images/diff_eq_2.png)"
   ]
  },
  {
   "cell_type": "markdown",
   "metadata": {},
   "source": []
  },
  {
   "cell_type": "markdown",
   "metadata": {},
   "source": []
  },
  {
   "cell_type": "markdown",
   "metadata": {},
   "source": [
    "# What Computations Can Neurotransmitter Receptors Perform?\n",
    "Let's use the code above to do some simple thought experiments. Given how most receptors work, what \"computations\" can they perform? For these experiments, it will be necessary to frequently return to a starting baseline simulation, using the default parameters given above in commented square brackets. So please ensure that all of the sliders above are set to their default values. \n",
    "\n",
    "## Impulse Response, Filtering, Convolution\n",
    "In the signal processing literature, the Impulse Response of a linear system is the output that the system produces in response to an infinitely brief and infinitely large input. In the simplest cases, knowing the Impulse Response is enough to allow you to predict the entire behavior of the system in response to any arbitrary input. In our case of neurotransmitter receptors, let's explore the Impulse Response of this system.\n",
    "\n",
    "1) Set all parameters to their default values. \n",
    "\n",
    "2) Click the next  \"Run From Here to End\" button.\n",
    "\n",
    "3) You should see something like this (Fig 1):\n",
    "\n",
    "TO DO\n",
    "\n",
    "The top trace is the time-dependent *probability* of being in the O state (P_o, i.e., the Open ion-conducting state - for ionotropic receptors, this is what we would usually call the \"response\" because this state affects the electrical behavior of the membrane). Here, we can provisionally consider this as the Impulse Response. The middle traces show the probabilities for all the states (U, B, O and D). Depending on your simulation, you may need to use the zoom function to see the different traces clearly. Hover your mouse over the figure, choose the magnifying glass icon, then click-and-drag to zoom. The bottom trace shows the agonist profile, [A]. In this example, it's a brief 1 ms square pulse of 1 mM. For our purposes, this is a) similar to an \"Impulse\" and b) similar to the actual timecourse of neurotransmitter concentration at a synapse in the CNS following release of a single packet of neurotransmitter. \n",
    "\n",
    "So, what computation have the receptors already performed, just by responding to a packet of neurotransmitter, according to their own intrinsic properties? Well, the input ([A]) is brief and spike-like, but the output (Open Probability, P_o) is slow and smooth. The receptor has performed a slowing and a smoothing transformation on its input. In signal processing terms, we might say that the receptor has acted like a filter. Mathematically, this might be described as the convolution of the Impulse ([A], bottom trace) with the Impulse Response (P_o, top trace). By its very nature, the receptor is already performing complex mathematical operations: filtering and convolution. In this case, it's a low-pass filter that blocks high frequencies (e.g., sharp edges) and passes low frequencies (e.g., slow and smooth components). These concepts of filtering and convolution will probably arise many more times as you continue to study brain function, in numerous different contexts. Please keep in mind that even the lowly receptor itself is already performing these computations to some degree. \n",
    "\n",
    "## Arithmetic\n",
    "The simplest mathematical computations are probably arithmetical manipulations of numbers. For example, addition, subtraction, multiplication and division. Let's see how receptors handle numbers.\n",
    "\n",
    "1) Set all parameters to their default values. \n",
    "\n",
    "2) Set PulseFreq = 500.\n",
    "\n",
    "3) Re-run the relevant sections of code.\n",
    "\n",
    "4) You should see something like this (Fig 2):\n",
    "\n",
    "TO DO\n",
    "\n",
    "Here, as the number of stimuli increases, the size of the receptor response also increases. Which arithmetical operation is this most similar to: addition, subtraction, multiplication or division? Is it exactly equal to that operation, or only approximately? If not exact, what is it about how receptors work that might prevent them from performing exact arithmetic operations? \n",
    "\n",
    "# Homework Exercises\n",
    "\n",
    "Here are some things to work on at home. You may need to submit some items that might be graded. Please submit all items in a single file. Please focus on showing figures that illustrate your results, but add your comments/explanations as necessary. \n",
    "\n",
    "## Exercise #1 - The \"Impulse Response\" of a Neurotransmitter Receptor\n",
    "\n",
    "First, reset the simulation to all the original defaults. \n",
    "\n",
    "a) Run a simulation with all the original defaults (i.e., 1 brief agonist pulse, AgConcMax = 10^-7 M) (100 nM). (Fig 1)\n",
    "\n",
    "b) Run another simulation with all the original defaults, but now change AgConcMax = 10^-2 M (10 mM). \n",
    "\n",
    "c) Does the Open probability look different, depending on the concentration of agonist that's driving the receptor? \n",
    "\n",
    "d) Do the state probabilities (U, B, O, D) look different, depending on the agonist concentration that's driving the receptor? If any, what are the differences? \n",
    "\n",
    "e) Is the Impulse Response of this generic receptor constant? Or is it \"adaptive\", depending on how it is being driven by agonist concentration? \n",
    "\n",
    "f) Does it make sense to think of a receptor as performing a single and constant mathematical operation? If so, what is that operation? If not, why not? \n",
    "\n",
    "**Homework Exercise 1:**\n",
    "\n",
    "**Make two graphs of the two simulations above (a & b). Paste those figures into the final document with your brief explanations. Briefly answer questions c-f above. One or two sentences each, if possible, please.**\n",
    "\n"
   ]
  },
  {
   "cell_type": "code",
   "execution_count": null,
   "metadata": {},
   "outputs": [],
   "source": []
  },
  {
   "cell_type": "markdown",
   "metadata": {},
   "source": [
    "\n",
    "## Exercise #2 - The Response to More Complex Inputs\n",
    "In reality, neither we nor the brain are ever dealing with simple single spike inputs. Let's explore a slightly more complex situation. \n",
    "\n",
    "First, reset the simulation to all the original defaults.\n",
    "\n",
    "a) To reset the baseline simulation, run a simulation with all the original defaults (i.e., 1 brief agonist pulse, AgConcMax = 10^-7 M) (100 nM). You should see something like Fig.1 above.\n",
    "\n",
    "b) Run another simulation with all the original defaults, but now change PulseFreq = 500.  You should see something similar to Fig 2 above.\n",
    "Previously, we might have agreed that the receptor was performing a relatively simple arithmetic operation. Maybe not perfectly, but approximately. What was that operation again?\n",
    "\n",
    "c) Now, change AgConcMax = 10^-2 M (10 mM) and rerun the simulation. Please note: We have NOT changed the way that the receptor works. We have only changed the driving conditions (e.g., the profile of neurotransmitter exposure). The point here is to explore how the same receptor responds under varied conditions. \n",
    "\n",
    "d) Is the receptor response constant, or does it \"adapt\" to varying stimulus conditions (e.g., agonist concentration)? \n",
    "\n",
    "e) What \"computation\", or arithmetical operation, is the receptor performing on its input? Is it performing the same operation under simulation b) above versus simulation c) above? \n",
    "\n",
    "f) If you don't think that this receptor is performing a simple arithmetic operation, then what do you think that it is doing? What features of the stimulus is it encoding under the different stimulus conditions? Hint: the terms \"\"integration\" and \"differentiation\" might be useful to ponder. \n",
    "\n",
    "**Homework Exercise 2:**\n",
    "\n",
    "**Make two graphs of the two simulations above (b & c). Paste those figures into the final document with your brief explanations. Briefly answer questions d-f above. One or two sentences each, if possible, please.**"
   ]
  },
  {
   "cell_type": "code",
   "execution_count": null,
   "metadata": {},
   "outputs": [],
   "source": []
  },
  {
   "cell_type": "markdown",
   "metadata": {},
   "source": [
    "\n",
    "## Exercise #3 - The Effect of Microscopic Receptor Affinity\n",
    "\n",
    "An important measure of receptor function is its \"affinity\" (i.e., how tightly it binds to the agonist). Affinity can be described by either the *microscopic affinity* using the dissociation constant $K_D = \\frac{k_{off}}{k_{on}}$ (i.e., the tightness of agonist binding to the Unbound state) or the *macroscopic affinity* using the $EC_{50}$ (i.e., the Effective Concentration that causes 50% of the maximal response). Let's explore the effect of varying the *microscopic affinity*.\n",
    "\n",
    "First, reset the simulation to all the original defaults.\n",
    "\n",
    "a) To reset the baseline simulation, run a simulation with all the original defaults (i.e., 1 brief agonist pulse, AgConcMax = 10^-7 M) (100 nM). You should see something like Fig.1 above.\n",
    "\n",
    "b) Now run three simulations and click \"Run From Here To End\" after each one (and save the three resulting figures):\n",
    "\n",
    "&nbsp;&nbsp;&nbsp;&nbsp;&nbsp;&nbsp;i) Set k_off = 10^3 /s. Calculate and write down the *microscopic affinity*.\n",
    "\n",
    "&nbsp;&nbsp;&nbsp;&nbsp;&nbsp;&nbsp;ii) Set k_off = 10^2 /s. Calculate and write down the *microscopic affinity*.\n",
    "\n",
    "&nbsp;&nbsp;&nbsp;&nbsp;&nbsp;&nbsp;iii) Set k_off = 10^1 /s. Calculate and write down the *microscopic affinity*.\n",
    "\n",
    "c) Explain how varying microscopic affinity alters the shape of the impulse response. \n",
    "\n",
    "d) Explain why varying microscopic affinity alters the shape of the impulse response in the way that it does. \n",
    "\n",
    "e) Using these ideas, explain why AMPA receptors at synapses produce very fast (~5 ms) excitatory postsynaptic currents (EPSCs) whereas NMDA receptors produce very slow (~100 ms) EPSCs. \n",
    "\n",
    "**Homework Exercise 3:**\n",
    "**Make three figures of the three simulations above (b). Paste those figures into the final document with your brief explanations. Briefly answer questions c-e above. One or two sentences each, if possible, please.**"
   ]
  },
  {
   "cell_type": "code",
   "execution_count": null,
   "metadata": {},
   "outputs": [],
   "source": []
  },
  {
   "cell_type": "markdown",
   "metadata": {},
   "source": [
    "\n",
    "## Exercise #4 - The Dose-Response Curve\n",
    "\n",
    "A standard empirical measurement in receptor studies is the Dose-Response Curve, in which one applies a range of agonist concentrations (or dose) and graphs the response on the y-axis vs the dose on the x-axis. Dose response curves are usually plotted using a log10 x-axis scale:\n",
    "\n",
    "![Dose-Response Curve](images/dose_response_curve.png)\n",
    "\n",
    "The arrows show the macroscopic affinity or  (i.e., the Effective Concentration that causes 50% of the maximal response). This is an empirical measure of the overall tightness of binding between an agonist and the receptor. A low  (e.g., for Muscimol) means that a low concentration of agoinist can efficiently activate the receptor (i.e., high affinity) whereas a high  (e.g., for -alanine) means that it takes a lot of agonist to activate the receptor (i.e., low affinity). Let's explore the relation between microscopic vs macroscopic affinity. \n",
    "\n",
    "First, reset the simulation to all the original defaults (see code above, in commented square brackets \"[ ]\"). \n",
    "\n",
    "a) To reset the baseline simulation, run a simulation with all the original defaults (i.e., 1 brief agonist pulse, AgConcMax = 10^-7 M) (100 nM). You should see something like Fig.1 above.\n",
    "\n",
    "b) Now set PulseDur = 0.04 s, set AgConcMax to 10^-1 M and click \"Run From Here To End\".\n",
    "\n",
    "&nbsp;&nbsp;&nbsp;&nbsp;&nbsp;&nbsp;i) Does that simulation look right to you? Why not?\n",
    "\n",
    "&nbsp;&nbsp;&nbsp;&nbsp;&nbsp;&nbsp;ii) Try this: set dt = 10^-5 and click \"Run From Here To End\".  \n",
    "    \n",
    "&nbsp;&nbsp;&nbsp;&nbsp;&nbsp;&nbsp;iii) Can you explain why that helped? Let that be a lesson to you about The Importance of ∆t!\n",
    "\n",
    "c) Run seven new simulations, sequentially using the following seven values for AgConcMax:\n",
    "        \n",
    "    AgConcMax_values = [10**(-7), 10**(-6), 10**(-5), 10**(-4), 10**(-3), 10**(-2), 10**(-1)]\n",
    "\n",
    "Then write a for-loop and run the simulation for the new AgConcMax in each iteration of the loop.\n",
    "\n",
    "    # Run the simulations\n",
    "    for AgConcMax in AgConcMax_values:\n",
    "        # Reset the simulation to the original defaults\n",
    "        # ...\n",
    "        # Set the simulation parameters\n",
    "        # ...\n",
    "        # Collect the results\n",
    "        # ...\n",
    "    # Plot the results\n",
    "\n",
    "d) Use the following plotting code and integrate it into your script:\n",
    "\n",
    "\n",
    "You should see something that looks like this (Fig 4 - save this graph using plt.savefig):\n",
    "\n",
    "\n",
    "Congratulations. You have just performed a Dose-Response Curve experiment. From the graph, measure the empirical macroscopic affinity, EC<sub>50</sub> and write it down. Now, the fun part.\n",
    "\n",
    "e) Explore how altering the receptor, for example by a making a mutation in the binding site that changes the microscopic affinity, alters the macroscopic affinity. Mutations like this often cause human neurological diseases.\n",
    "  - Repeat steps c-d above, but this time set k<sub>off</sub> = 10^3 /s. Calculate the microscopic affinity and write it down.\n",
    "  - From the graph, measure the empirical macroscopic affinity,  and write it down.\n",
    "\n",
    "f) Explore how altering the receptor without changing the microscopic affinity, for example by a making a mutation in the channel gate that destabilizes the Open state, alters the macroscopic affinity.  Mutations like this also often cause human neurological diseases.\n",
    "    i) Reset k_off = 10^2 /s. Calculate the microscopic affinity and write it down. \n",
    "    ii) Now reduce the opening rate to beta = 10^2 /s and increase the closing rate to alpha = 10^5 /s. \n",
    "        Repeat steps c-d above. \n",
    "        From the graph, measure the empirical macroscopic affinity,  and write it down.\n",
    "\n",
    "g) Explain why it was important to change ∆t.\n",
    "\n",
    "h) If things went well, your simulations should reveal that microscopic and macroscopic affinity values are rarely the same, even when the receptor properties are identical. Which one tends to have a lower value (i.e., higher apparent affinity)? Explain why this is the case.\n",
    "\n",
    "i) In part f) above, even though microscopic affinity was the same as in part a) above, the macroscopic affinity was different. Explain why this is the case."
   ]
  }
 ],
 "metadata": {
  "kernelspec": {
   "display_name": "NTP640",
   "language": "python",
   "name": "python3"
  },
  "language_info": {
   "codemirror_mode": {
    "name": "ipython",
    "version": 3
   },
   "file_extension": ".py",
   "mimetype": "text/x-python",
   "name": "python",
   "nbconvert_exporter": "python",
   "pygments_lexer": "ipython3",
   "version": "3.12.1"
  }
 },
 "nbformat": 4,
 "nbformat_minor": 2
}
